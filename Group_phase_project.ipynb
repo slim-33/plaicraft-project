{
 "cells": [
  {
   "cell_type": "markdown",
   "id": "c874138a-ad28-497d-8794-41cb379d3c59",
   "metadata": {},
   "source": [
    "# Subscription status as predicted by age and playtime by K-nearest neighbors Classification"
   ]
  },
  {
   "cell_type": "markdown",
   "id": "cf9f2ee3-743c-43c7-9ce7-93a14ce1f705",
   "metadata": {},
   "source": [
    "# Introduction \n",
    "\n",
    "Minecraft is a video game in which players can explore a virtual 3D world. It has become a sensation worldwide and rakes in millions of players every year. At UBC, a research group in the computer science department have set up a Minecraft server to develop AI that can act in a virtual environment. Random participants were recruited to play the game, and their in-game actions were recorded. The logistics of this project are not simple so our goal is to analyze the data with R programming to help streamline their operations. The research team is specifically interested in targeting their recruitment efforts and ensuring they have sufficient resources to support the server. We aim to draw inferences/patterns from the data to determine the target audience or the times when most players are online. In this proposal, we will focus on predicting whether a player will subscribe to the game newsletter. Through data analysis and predictive modeling, we hope to help the team target the right audience for future recruitment efforts.\n",
    "\n",
    "The overarching question being addressed is: “What player characteristics and behaviours are most predictive of subscribing to a game-related newsletter, and how do these features differ between various player types?”, from this we formulated our research question: Can the number of played hours and the age of the players be used to predict a player's subscription status? We hypothesize that the longer time playing and the more minor the age, the more chance of subscribing. We will first load the R package (tidyverse and tidymodels)."
   ]
  },
  {
   "cell_type": "code",
   "execution_count": null,
   "id": "49a89297-dba1-4f29-9748-57e2acc70633",
   "metadata": {
    "vscode": {
     "languageId": "r"
    }
   },
   "outputs": [],
   "source": [
    "library(tidyverse)\n",
    "library(tidymodels)"
   ]
  },
  {
   "cell_type": "markdown",
   "id": "7c56a777-4fde-419e-98c9-fc75fa89fea9",
   "metadata": {},
   "source": [
    "# Data Description and Analysis\n",
    "\n",
    "We need to read the two data sets from the open-access GitHub repository."
   ]
  },
  {
   "cell_type": "code",
   "execution_count": null,
   "id": "db11e95d-fd2c-431e-ac48-2ab99b299907",
   "metadata": {
    "vscode": {
     "languageId": "r"
    }
   },
   "outputs": [],
   "source": [
    "Players_data <- read_csv(\"https://raw.githubusercontent.com/TaileLi404/DSCI_group_project/refs/heads/main/players.csv\")\n",
    "Players_data |>\n",
    "head(n = 12)\n",
    "\n",
    "Session_data <- read_csv(\"https://raw.githubusercontent.com/TaileLi404/DSCI_group_project/refs/heads/main/sessions.csv\")\n",
    "Session_data |>\n",
    "head(n = 12)"
   ]
  },
  {
   "cell_type": "markdown",
   "id": "4bae5295-babc-4fa5-9fb1-96fab02cc95b",
   "metadata": {},
   "source": [
    "Table (12x7) above has seven columns/variables: \"experience, subscribe, hashedEmail, played_hours, name, gender, Age\". Also, the red box below describes the data set: there are 196 rows (196 people's data). \n",
    "\n",
    "The red box conveys the types of the variables:\n",
    "4 characters: experience (how well is a player), hashedEmail (coded email), name, gender; \n",
    "2 dbl: played_hours, Age; \n",
    "1 lgl: subscribe (the subscription status). \n",
    "\n",
    "For the second data set, although it won't be used for my project, it would be beneficial to know the variable type: \n",
    "3 character variables: hashed email, start_time, and end_time; and 2 numeric variables (dbl): original_start_time and original_end_time.\n",
    "\n",
    "For this task, only subscribe, Age, and played_hours are focused. \n",
    "\n",
    "A problem associated to the data set is that there are 2 'NA' data point at age and 'prefer not to tell' in the data set, which may be problematic for further analysis.  \n",
    "\n",
    "As the data set is already tidy, we will exclude the unneeded variables."
   ]
  },
  {
   "cell_type": "code",
   "execution_count": null,
   "id": "4e006755-850c-4b84-87fc-c9ea6a62d0b5",
   "metadata": {
    "vscode": {
     "languageId": "r"
    }
   },
   "outputs": [],
   "source": [
    "cleaned_Players_data <- Players_data |>\n",
    "select(subscribe, played_hours, Age)\n",
    "cleaned_Players_data |>\n",
    "head()"
   ]
  },
  {
   "cell_type": "markdown",
   "id": "25906857-73b6-467f-a0cc-5c188bbd55d9",
   "metadata": {},
   "source": [
    "From the data table, we will explore summary statistics (mean, median, max, etc.)."
   ]
  },
  {
   "cell_type": "code",
   "execution_count": null,
   "id": "de45fa53-3cbb-4d91-9f29-c1f58e611877",
   "metadata": {
    "vscode": {
     "languageId": "r"
    }
   },
   "outputs": [],
   "source": [
    "summary(cleaned_Players_data, na.rm = TRUE)"
   ]
  },
  {
   "cell_type": "markdown",
   "id": "68fef3fd-a252-4a97-8862-5d5e248b1137",
   "metadata": {},
   "source": [
    "# Visualization Stage for Explorative analysis\n",
    "\n",
    "The summary statistics show the general distribution of hours played, age and amount of people subscribed. Then, we will apply the explorative method (visualization):\n",
    "a histogram (played_hours is continuous),\n",
    "a box plot (highlighting the age range),\n",
    "and a scatter plot (find patterns between the Age and played_hours)."
   ]
  },
  {
   "cell_type": "code",
   "execution_count": null,
   "id": "e5231b76-33d4-4e1e-9b75-714e5470632c",
   "metadata": {
    "vscode": {
     "languageId": "r"
    }
   },
   "outputs": [],
   "source": [
    "options(repr.plot.height = 7, repr.plot.width = 10)\n",
    "\n",
    "cleaned_Players_data_histo <- ggplot(cleaned_Players_data, aes(x=played_hours, fill = subscribe)) +\n",
    "geom_histogram(alpha = 0.6, position = \"dodge\", binwidth= 6) +\n",
    "labs(x = \"hours played\", fill = \"subscribe or not\", y = \"number of participants\") +\n",
    "xlim(-3, 60)+\n",
    "theme(text = element_text(size = 14)) +\n",
    "ggtitle(\"The subscription status of player who have varied amount of time playing game\")\n",
    "\n",
    "cleaned_Players_data_histo"
   ]
  },
  {
   "cell_type": "markdown",
   "id": "a97acbc4-b073-4cae-81e4-9cc12700ebb1",
   "metadata": {},
   "source": [
    "The first graph doesn't have a strong correlation between playing time and subscription status. But, we can generally conclude that most unsubscribed players have 0 hours of played time and most subscribed players played above 0 hours. Also, 4 bars have playing hours far beyond 60 (greater than 150 hours). Therefore, their data would be 'noise' for the general trend. Overall, we can conclude a weak correlation between increasing played hours and possible chances to subscribe (however the data set may be too small to include players who don't subscribe beyond 10 hours playing)."
   ]
  },
  {
   "cell_type": "code",
   "execution_count": null,
   "id": "c91bc8ec-73f8-4de5-9079-da058dd9ecb9",
   "metadata": {
    "vscode": {
     "languageId": "r"
    }
   },
   "outputs": [],
   "source": [
    "cleaned_Players_data_point <- ggplot(cleaned_Players_data, aes(x=subscribe, y = Age, color = subscribe)) +\n",
    "geom_boxplot(alpha = 0.6, size = 1.5) +\n",
    "labs(x = \"subscribe or not\", y = \"Player's age\", color = \"subscribe or not\") +\n",
    "theme(text = element_text(size = 14)) +\n",
    "ggtitle(\"The subscription status of players in different ages\")\n",
    "\n",
    "cleaned_Players_data_point"
   ]
  },
  {
   "cell_type": "markdown",
   "id": "46ad6374-319f-4a45-b0b3-47359450e787",
   "metadata": {},
   "source": [
    "The second graph doesn't have a strong correlation between age and subscription status. From the graph, most subscribed players are within an age range of around 10 to 28; unsubscribed players are mostly within 17 to 33. Although the two ranges generally overlap, there are still differences: larger age range for subscribed players."
   ]
  },
  {
   "cell_type": "code",
   "execution_count": null,
   "id": "e9247684-73f1-4728-92df-9d37beff7882",
   "metadata": {
    "vscode": {
     "languageId": "r"
    }
   },
   "outputs": [],
   "source": [
    "cleaned_Players_data_mix <- ggplot(cleaned_Players_data, aes(x=Age, y = played_hours, color = subscribe)) +\n",
    "geom_point(alpha = 0.6, size = 2.5) +\n",
    "labs(x =\"Player's age\", y = \"Amount of time playing (in hours)\", color = \"subscribe or not\") +\n",
    "theme(text = element_text(size = 14)) +\n",
    "ggtitle(\"The subscription status of players in different ages and different played hours\")\n",
    "\n",
    "cleaned_Players_data_mix"
   ]
  },
  {
   "cell_type": "markdown",
   "id": "95dbe67a-5c81-43fa-80f8-ef51137badda",
   "metadata": {},
   "source": [
    "To confirm the previous observations, a third graph is conducted with all three variables. The player's age and played time are on the x and y axes, and the subscription status is coloured. On the graph, all players, with played time above 10 hours, have subscribed. Below the age of 30, far more players subscribed; while above 30, the amount of data decreased, but the subscription status became approximately equal.\n",
    "\n",
    "Also, looking at this graph, we could easily indicate outliers: 4 people who played above 150 hours (they were ignored in the first graph)."
   ]
  },
  {
   "cell_type": "markdown",
   "id": "d97a42ff-58a8-4164-841b-58f2f36060dc",
   "metadata": {},
   "source": [
    "# Classification Stage\n",
    "\n",
    "We can take one step further to investigate the research question. Three methods are learned from class: knn classification, knn regression, and linear regression. However, the response variable for this project is 'subscribe' and it is a logistic or categorical. Therefore, both regression methods can be neglected as they are only valid when a numerical variable is the response variable. \n",
    "\n",
    "So, the classification method should be used to furtherly predict new observations with unknown subscription status. Weaknesses also exists in this method. The subscription status is numerically unbalanced meaning that as k increases, it would favour the subscribing group (who has more data points). Also, there are overlapping areas from the third graph which may distract the predictions' accuracy. Last, this data set isn't big enough to contain players with longer playing time while not subscribing (which may be possible for new observations). So, we'll start with dropping the 'NA's previously mentioned in our data."
   ]
  },
  {
   "cell_type": "code",
   "execution_count": null,
   "id": "8fd1c013-ffd8-485b-b35c-1a31cb4d7ea3",
   "metadata": {
    "vscode": {
     "languageId": "r"
    }
   },
   "outputs": [],
   "source": [
    "cleaned_Players_data_2 <- cleaned_Players_data |>\n",
    "mutate(subscribe = as.factor(subscribe))|>\n",
    "drop_na()\n",
    "\n",
    "cleaned_Players_data_2 |>\n",
    "head()"
   ]
  },
  {
   "cell_type": "markdown",
   "id": "2dd00baa-dd74-42ec-bd76-7eb965cb0250",
   "metadata": {},
   "source": [
    "A random numerical value, 2024, was used as the seed to ensure a random, but reproducible sampling. The cleaned_Players_data_2 was split into training and testing datasets using the initial_split function, with 80% of the data being put into the training data by prop = 0.8. The strata argument was set as equal to subscribe, to ensure both datasets include the correct proportion of each category."
   ]
  },
  {
   "cell_type": "code",
   "execution_count": null,
   "id": "65c793b5-09f6-44f4-8352-76ee9eb6aae6",
   "metadata": {
    "vscode": {
     "languageId": "r"
    }
   },
   "outputs": [],
   "source": [
    "set.seed(2024)\n",
    "Split_Players_data <- cleaned_Players_data_2 |>\n",
    "initial_split(data = cleaned_Players_data_2, prop=0.8, strata = subscribe)\n",
    "\n",
    "Players_train <- training(Split_Players_data)   \n",
    "Players_test <- testing(Split_Players_data)"
   ]
  },
  {
   "cell_type": "markdown",
   "id": "df48dc0a-bb0a-43ce-b2bf-7dc6ff8b80c1",
   "metadata": {},
   "source": [
    "A recipe was created using recipe() in which subscribe was assigned as the response variable and played_hours and Age were assigned to be predictor variables. The numerical values were standardized using step_scale and step_center."
   ]
  },
  {
   "cell_type": "code",
   "execution_count": null,
   "id": "0038f56c-924e-4052-8532-a11445ec5a92",
   "metadata": {
    "vscode": {
     "languageId": "r"
    }
   },
   "outputs": [],
   "source": [
    "Players_recipe <- recipe(subscribe ~ played_hours + Age , data = Players_train) |>\n",
    "   step_scale(all_predictors()) |>\n",
    "   step_center(all_predictors())"
   ]
  },
  {
   "cell_type": "markdown",
   "id": "f63960bc-e763-4aa5-ab7f-dbfc5a7838b9",
   "metadata": {},
   "source": [
    "We want to use the K-nearest neighbours classification model to try and predict whether players are subscribed or not, but we don’t know what the optimal K value is yet. To find it, we will use a tuning model first. We used the nearest_neighbor() function and set the neighbors argument to tune() to tell the model that this value will be optimized in the process. The weight_func was set as equal to rectangular to give equal weighting to each neighbor, so they all have equal influence on the prediction. "
   ]
  },
  {
   "cell_type": "code",
   "execution_count": null,
   "id": "d111cb72-0f86-45be-8313-fe2b6fdb172a",
   "metadata": {
    "vscode": {
     "languageId": "r"
    }
   },
   "outputs": [],
   "source": [
    "knn_Players_tune <- nearest_neighbor(weight_func = \"rectangular\",\n",
    "neighbors = tune())|>\n",
    "set_engine(\"kknn\") |>\n",
    "set_mode(\"classification\")"
   ]
  },
  {
   "cell_type": "markdown",
   "id": "14a4bcff-6125-4ced-9c9a-27a7f13591f2",
   "metadata": {},
   "source": [
    "We'll create a data frame of the K values we want to furtherly test. The values start from 1 to 30 by increament of 1."
   ]
  },
  {
   "cell_type": "code",
   "execution_count": null,
   "id": "8488eb8d-5cb7-4e5c-902d-67608a4b50e4",
   "metadata": {
    "vscode": {
     "languageId": "r"
    }
   },
   "outputs": [],
   "source": [
    "k_values <- tibble(neighbors = seq(from=1, to=30, by=1))"
   ]
  },
  {
   "cell_type": "markdown",
   "id": "6dc2585e-c568-4a8b-8ae9-be2bf7b692e4",
   "metadata": {},
   "source": [
    "We perform 5-fold cross-validation to evaluate the accuracy of the classifier using vfold_cv(). Only the training data is used in this evaluation. The strata argument is set to subscribe, the categorical variable, to ensure each validation subset has the correct proportion of each category of observation."
   ]
  },
  {
   "cell_type": "code",
   "execution_count": null,
   "id": "d2bb5b2a-67d4-4d16-90fc-7ec612f27bb3",
   "metadata": {
    "vscode": {
     "languageId": "r"
    }
   },
   "outputs": [],
   "source": [
    "set.seed(2024)\n",
    "five_fold <- vfold_cv(Players_train, v = 5, strata = subscribe)"
   ]
  },
  {
   "cell_type": "markdown",
   "id": "a9ff83cb-58a6-40c6-b19f-e6cf5827c191",
   "metadata": {},
   "source": [
    "A workflow is used to chain together previous analysis steps along with new ones. Both add_recipe and add_model were used to add recipe and model specification  to train the model. The tune_grid() function was used to evaluate the classifiers accuracy across different K values. Within that function the resamples argument runs 5 fold cross validation on the training dataset. The grid argument set to k_values provided the range of K values to try. collect_metrics() collected the evaluation results, and filter(.metric == \"accuracy\") made it so only the accuracy scores were kept. The select function was used to pull the mean accuracy for each k value"
   ]
  },
  {
   "cell_type": "code",
   "execution_count": null,
   "id": "9d9f32a9-f338-4966-b7d7-bed5f37bb35b",
   "metadata": {
    "scrolled": true,
    "vscode": {
     "languageId": "r"
    }
   },
   "outputs": [],
   "source": [
    "knn_Players_result <- workflow() |>\n",
    "add_recipe(Players_recipe) |>\n",
    "add_model(knn_Players_tune) |>\n",
    "tune_grid(resamples = five_fold, grid = k_values)|>\n",
    "collect_metrics()|>\n",
    "filter(.metric == 'accuracy')|>\n",
    "select(neighbors, mean)\n",
    "\n",
    "knn_Players_result |>\n",
    "head()"
   ]
  },
  {
   "cell_type": "markdown",
   "id": "f71cc43a-1503-4393-9be7-5ed5109d9b70",
   "metadata": {},
   "source": [
    "To find the best K-value, we set up a line plot with the knn_Players_result with the x axis being different k values, and the y axis being an estimate of the accuracy. "
   ]
  },
  {
   "cell_type": "code",
   "execution_count": null,
   "id": "a2393d73-e9ff-404b-8719-91fb41a20002",
   "metadata": {
    "vscode": {
     "languageId": "r"
    }
   },
   "outputs": [],
   "source": [
    "Best_k_plot <- knn_Players_result |>\n",
    "ggplot(aes(x=neighbors, y= mean))+\n",
    "geom_point(size = 2.5)+\n",
    "geom_line()+\n",
    "labs(x=\"number of k\",y=\"accuracy estimate\")+\n",
    "ggtitle(\"Fig1: the best k plot\")+\n",
    "theme(text = element_text(size = 15))\n",
    "\n",
    "Best_k_plot"
   ]
  },
  {
   "cell_type": "markdown",
   "id": "bfb74ed2-72cd-4e0e-8059-8b93697691d8",
   "metadata": {},
   "source": [
    "By looking at this plot, we choose k=13. Although, it isn't the highest accuracy but it has a high accuracy level with less k which means it would be less affected by the case of more subscribed than unsubscribed, meaning that it is the most optimal k value to use for this model."
   ]
  },
  {
   "cell_type": "markdown",
   "id": "defb8734-db7a-4c0d-bbc8-85670e6af541",
   "metadata": {},
   "source": [
    "We created a specification model with the K value that we just found with the nearest_neighbor() function. Again, this will ensure that our final model uses the KNN Nearest Neighbour algorithm and be used for classification by setting the set_engine() argument to “kknn”, and set mode() argument to “classification. This will later be fitted to the training data for the final model."
   ]
  },
  {
   "cell_type": "code",
   "execution_count": null,
   "id": "5d588689-960a-4145-a25d-86eab9f7194d",
   "metadata": {
    "vscode": {
     "languageId": "r"
    }
   },
   "outputs": [],
   "source": [
    "knn_Players_spec <- nearest_neighbor(weight_func = \"rectangular\",\n",
    "neighbors = 13)|>\n",
    "set_engine(\"kknn\") |>\n",
    "set_mode(\"classification\")"
   ]
  },
  {
   "cell_type": "markdown",
   "id": "070a98dc-cd76-4a57-815b-95f6b7d60c3c",
   "metadata": {},
   "source": [
    "We place the new model and the previous recipe in another workflow using add_recipe() and add_model, and then fit the workflow to the training data using fit function."
   ]
  },
  {
   "cell_type": "code",
   "execution_count": null,
   "id": "2af2a0ce-01ff-4766-a286-fb12940d0161",
   "metadata": {
    "vscode": {
     "languageId": "r"
    }
   },
   "outputs": [],
   "source": [
    "knn_players_fit <- workflow()|>\n",
    "add_recipe(Players_recipe) |>\n",
    "add_model(knn_Players_spec) |>\n",
    "fit(data = Players_train)"
   ]
  },
  {
   "cell_type": "markdown",
   "id": "ab32907d-3297-488e-9469-7fcbe69c35aa",
   "metadata": {},
   "source": [
    "To test the accuracy of our new model, we fed it the testing data that we have remaining using the predict() function, and then bounded the columns for the metrics we are going to check. Now we give the results of our models’ predictions and give it to the metrics() function and use the filter() function to only take the accuracy. "
   ]
  },
  {
   "cell_type": "code",
   "execution_count": null,
   "id": "b1d5eafc-3461-4550-a4e8-d1af7b8a887b",
   "metadata": {
    "vscode": {
     "languageId": "r"
    }
   },
   "outputs": [],
   "source": [
    "Players_subscribe_pred <- predict(knn_players_fit, Players_test)|>\n",
    "bind_cols(Players_test)\n",
    "\n",
    "Players_metrics <- Players_subscribe_pred|>\n",
    "metrics(truth=subscribe, estimate=.pred_class)|>\n",
    "filter(.metric == 'accuracy')\n",
    "\n",
    "Players_metrics\n",
    "\n",
    "Predicted_k <- knn_Players_result|>\n",
    "filter(neighbors==13)\n",
    "Predicted_k"
   ]
  },
  {
   "cell_type": "markdown",
   "id": "5f1aa84f-037d-40fa-918d-6790105b8705",
   "metadata": {},
   "source": [
    "Our model has an accuracy of 67.5%, which is a bit lower in comparison with 72.7% predicted from training data. Now we make a confusion matrix for our model, which just shows the false positives, false negatives, true positives, and true negatives from our model. To do this, we used the conf_mat function."
   ]
  },
  {
   "cell_type": "code",
   "execution_count": null,
   "id": "d420d10f-359b-49f2-88b2-b78635550b55",
   "metadata": {
    "vscode": {
     "languageId": "r"
    }
   },
   "outputs": [],
   "source": [
    "Players_conf_mat <- Players_subscribe_pred|>\n",
    "conf_mat(truth = subscribe, estimate = .pred_class)\n",
    "\n",
    "Players_conf_mat"
   ]
  },
  {
   "cell_type": "markdown",
   "id": "04bcf663-8b37-428a-9a1e-0661418ea8fa",
   "metadata": {},
   "source": [
    "Although, the accuracy isn't the highest as it can be. But we can see that R did not merely predicting all datapoints to be true (because subscribed player have a greater amount), which is a useful prediction for the research group."
   ]
  },
  {
   "cell_type": "markdown",
   "id": "6250def2-d586-4a60-9d27-62e271cca42d",
   "metadata": {},
   "source": [
    "Now we will compare the predictions to the true classes and create a data frame of our accurate and inaccurate predictions. The accurate variable lists whether the predictions of the observations were correct. It is the only column kept using select() and turned into character type data using mutate()."
   ]
  },
  {
   "cell_type": "code",
   "execution_count": null,
   "id": "683c153d-8f07-4fb1-bd3b-c808927b842a",
   "metadata": {
    "vscode": {
     "languageId": "r"
    }
   },
   "outputs": [],
   "source": [
    "final_result <- Players_subscribe_pred|> \n",
    "mutate(accurate = (.pred_class == subscribe))|>\n",
    "select(-.pred_class, -subscribe)|>\n",
    "mutate(accurate = as.character(accurate))\n",
    "\n",
    "final_result |> \n",
    "head()"
   ]
  },
  {
   "cell_type": "markdown",
   "id": "ecf23f2f-5b2d-4082-8150-528593d4b265",
   "metadata": {},
   "source": [
    "Finally, we will visualize a scatter plot of the age of players on the x axis vs the number of hours played on the y axis, but this time its colored by whether our model classified the point correctly or not. "
   ]
  },
  {
   "cell_type": "code",
   "execution_count": null,
   "id": "de1c741e-e148-4c5b-9c14-bdd88ea0efbb",
   "metadata": {
    "vscode": {
     "languageId": "r"
    }
   },
   "outputs": [],
   "source": [
    "Players_subscribe_pred_accuracy_plot <- final_result|>\n",
    "ggplot(aes(x=Age, y=played_hours, color = accurate))+\n",
    "geom_point(alpha= 0.6, size = 2.5)+\n",
    "labs(x=\"age of players\", y= \"number of hours played\")+\n",
    "ggtitle(\"Fig2: Prediction accuracy of subscription status by age and played hour \n",
    "\\n of player from classification\")+\n",
    "theme(text = element_text(size = 15))\n",
    "\n",
    "Players_subscribe_pred_accuracy_plot"
   ]
  },
  {
   "cell_type": "markdown",
   "id": "c47adf52-f1c3-4165-a78a-1e223559a81a",
   "metadata": {},
   "source": [
    "We can see our model does a pretty good job at correctly predicting whether the player was subscribed to a game-related newsletter or not in terms of accuracy."
   ]
  },
  {
   "cell_type": "markdown",
   "id": "c2933c7c-8d52-4e72-8570-7aa540d2520c",
   "metadata": {},
   "source": [
    "# Discussion\n",
    "\n",
    "From our analysis above, we found that most players who are subscribed to a game-related newsletter, had a total playtime of over 0 hours, whereas most players who are not subscribed to a game-related newsletter had a playtime of 0 hours. We also found that the average subscribed players’ age range goes from 10-28 years old, and the unsubscribed players’ age range goes from 17-33, which shows that younger players show more interest in games. Through the scatterplot visual that we made, it was found that all the players who had a total playtime of 10 or more hours were subscribed to a game newsletter, and also that for those below the age of 30, a majority of the players are subscribed compared to not. This shows that if they want to get more data from these players, the researchers at UBC should be trying to target the players who are subscribed to a game-related newsletter, and a majority of the players who are subscribed are in the younger age range. We also found that the number of played hours and the age of players can, in fact, be used to predict a player’s subscription status.\n"
   ]
  },
  {
   "cell_type": "markdown",
   "id": "04bcf334-4ae8-4cd8-bf5a-d7f131ff57b8",
   "metadata": {},
   "source": [
    "This is expected, as those who are subscribed to a game newsletter are typically people who are more interested in games than those who are not subscribed. The age range of the people who are subscribed and those who are not is also expected, as players aged from 15-21 years old account for 43% of the total Minecraft user base (Woodward, 2025), which falls in the age range for the players who are subscribed to the newsletter."
   ]
  },
  {
   "cell_type": "markdown",
   "id": "65f73264-0063-4051-add0-ab3abef90a3d",
   "metadata": {},
   "source": [
    "These findings show that the researchers should try and cater towards the younger and subscribed audiences, as they are more likely to spend more time on the MineCraft server. The researchers will get more data from younger people as they will play for longer amounts of time, which means that they will do more and get further into the game than those who play less.\n"
   ]
  },
  {
   "cell_type": "markdown",
   "id": "61c65c74-87be-451a-9066-35e2f083a211",
   "metadata": {},
   "source": [
    "For further research, we can conclude that there is a gap/blank area exists with players with high age (>30) and high playtime, and therefore R classification is more likely to make wrong predictions on players with higher age (>30) when predicting the test dataset. So, we can conduct survey for this group of player for better prediction. And, we can modify new varibale into consideration like gender: Can player gender be used to predict playtime in different age groups? "
   ]
  },
  {
   "cell_type": "code",
   "execution_count": null,
   "id": "def94f03-73a9-41ca-944e-463c1191b258",
   "metadata": {
    "vscode": {
     "languageId": "r"
    }
   },
   "outputs": [],
   "source": []
  }
 ],
 "metadata": {
  "kernelspec": {
   "display_name": "R",
   "language": "R",
   "name": "ir"
  },
  "language_info": {
   "codemirror_mode": "r",
   "file_extension": ".r",
   "mimetype": "text/x-r-source",
   "name": "R",
   "pygments_lexer": "r",
   "version": "4.3.3"
  }
 },
 "nbformat": 4,
 "nbformat_minor": 5
}
